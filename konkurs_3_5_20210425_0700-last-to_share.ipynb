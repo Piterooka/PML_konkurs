{
 "cells": [
  {
   "cell_type": "code",
   "execution_count": 36,
   "id": "719fb791",
   "metadata": {
    "ExecuteTime": {
     "end_time": "2021-04-25T20:40:05.641203Z",
     "start_time": "2021-04-25T20:40:04.604923Z"
    }
   },
   "outputs": [],
   "source": [
    "import pandas as pd\n",
    "import numpy as np\n",
    "import xgboost as xgb\n",
    "import lightgbm as lgb\n",
    "import catboost as ctb\n",
    "\n",
    "from sklearn.model_selection import train_test_split, cross_val_score\n",
    "\n",
    "from sklearn.linear_model import LinearRegression, LogisticRegression\n",
    "from sklearn.ensemble import RandomForestRegressor\n",
    "from sklearn.experimental import enable_hist_gradient_boosting\n",
    "from sklearn.ensemble import HistGradientBoostingRegressor\n",
    "\n",
    "from sklearn.metrics import r2_score\n",
    "from sklearn.metrics import mean_absolute_error\n",
    "\n",
    "from scikitplot.estimators import plot_learning_curve\n",
    "\n",
    "import matplotlib.pyplot as plt\n",
    "import datetime as dt\n",
    "\n",
    "import shap\n",
    "\n",
    "import warnings\n",
    "warnings.filterwarnings('ignore')\n",
    "\n",
    "filename = 'konkurs_3_5_20210425_0700'"
   ]
  },
  {
   "cell_type": "code",
   "execution_count": 37,
   "id": "bc2a35a1",
   "metadata": {
    "ExecuteTime": {
     "end_time": "2021-04-25T20:40:07.250461Z",
     "start_time": "2021-04-25T20:40:06.507722Z"
    }
   },
   "outputs": [
    {
     "name": "stdout",
     "output_type": "stream",
     "text": [
      "#### import data\n",
      "train & test:  (45694, 35) (22667, 35)\n"
     ]
    }
   ],
   "source": [
    "print(\"#### import data\")\n",
    "train = pd.read_hdf('../input/property.train.h5')\n",
    "test = pd.read_hdf('../input/property.test.h5') \n",
    "df_all = pd.concat([train, test], axis=0)\n",
    "print(\"train & test: \", train.shape, test.shape)"
   ]
  },
  {
   "cell_type": "code",
   "execution_count": 38,
   "id": "d2e54878",
   "metadata": {
    "ExecuteTime": {
     "end_time": "2021-04-25T20:40:08.509960Z",
     "start_time": "2021-04-25T20:40:08.492956Z"
    }
   },
   "outputs": [],
   "source": [
    "def extract_geoblock(vals):\n",
    "    vals = vals[: int(len(vals) / 2)]\n",
    "    return {\"geo_block_{}\".format(idx):val.strip().lower() for idx, val in enumerate(vals)}\n",
    "\n",
    "def extract_breadcrumbs(vals):\n",
    "    vals = vals[: int(len(vals) / 2)]\n",
    "    return {\"breadcrumbs{}\".format(idx):val.strip().lower() for idx, val in enumerate(vals)}\n",
    "\n",
    "#SPLIT DATA\n",
    "def split_breadcrumbs(row, string):\n",
    "    result = \"-1\"\n",
    "    len_ = len(row)\n",
    "    for x in range(len_):\n",
    "        if string in row[x]:\n",
    "            result = row[x]\n",
    "\n",
    "    return result\n",
    "\n",
    "\n",
    "def split_date(row, idx):\n",
    "    result = \"-1\"\n",
    "    len_ = len(row)\n",
    "    if len_ > idx:\n",
    "        result = row[idx]\n",
    "\n",
    "    return result\n",
    "\n",
    "def split_date_DMY(row, idx):\n",
    "    result = \"-1\"\n",
    "    \n",
    "    date_ = row.split(' ')\n",
    "    len_ = len(date_)\n",
    "    if len_ > idx:\n",
    "        result = date_[idx]\n",
    "        if \"сегодня\" in result:\n",
    "            result = \"+2\"\n",
    "        if \"вчера\" in result:\n",
    "            result = \"+1\"\n",
    "        if \":\" in result:\n",
    "            result = \"-1\"\n",
    "            \n",
    "    return result\n",
    "\n",
    "# dictionaries\n",
    "Security_dict = {\n",
    "\"access_control\":[\n",
    "    \"access control system\",\"access system\",\"access control\",\"Access system\",\"video surveillance and access control system\",\n",
    "    \"Concierge allow you not to worry about the safety of your stay. Video surveillance and access control systems make it impossible to enter the territory of unwanted guests\",\n",
    "    \"Access control and security systems\",\"electronic access control\",\"Checkpoint\",\"checkpoint.\",\"control of access to the territory\",\n",
    "    \"The whole territory of the residential complex is equipped with access control system\",\"centralized access control system\"\n",
    "],\n",
    "\"alarm\":[\n",
    "    \"burglar alarm\",\"Alarm system\",\"alarm system\",\"security alarm of all premises with life support systems of the building\",\n",
    "    \"warning system and evacuation management\",\"security alarm\",\"alarms\"\n",
    "],\n",
    "\"concierge\":[\n",
    "    \"Concierge\",\"Concierge service 24/7\",\"24-hour Concierge service\",\"Provided to help\",\n",
    "    \"Concierge allow you not to worry about the safety of your stay. Video surveillance and access control systems make it impossible to enter the territory of unwanted guests\",\n",
    "    \"Concierge service\",\"Concierge. Doorphone.\",\"Concierge and security facilities\",\"24-hour security and Concierge service\",\"a place for the Concierge\",\n",
    "    \"there is a room for the Concierge\",\"enclosed courtyard\"\n",
    "],\n",
    "\"fenced\":[\n",
    "    \"closed area\",\"enced area\",\"barrier\",\"Fenced\",\"Fenced guarded territory\",\"Fenced perimeter\",\"fenced protected area\",\"closed territory\",\"the area is fenced\",\n",
    "    \"fenced\",\"Fenced area\",\"The whole area is fenced and guarded around the clock.\",\"landscaped and fenced area\",\"fenced area with security\",\"fenced guarded area\",\n",
    "    \"ogorojennaja territory\",\"Fenced and protected area\",\"Perimeter fencing\",\"The territory of the complex is fenced and guarded\",\"Protected fenced area\"\n",
    "],\n",
    "\"fire_system\":[\n",
    "    \"Fire system\",\"automatic fire extinguishing systems\",\"automatic fire alarm\"\n",
    "],\n",
    "\"high_quality\":[\n",
    "    \"high-quality and safe playgrounds.\",\"high-tech 24-hour security\"\n",
    "],\n",
    "\"intercom\":[\n",
    "    \"intercom\",\"video intercom\",\"video intercoms\",\"Concierge. Doorphone.\",\"IP-intercom\"\n",
    "],\n",
    "\"landscaping\":[\n",
    "    \"the area with landscaping and the use of small architectural forms\",\"landscaping\tlandscaped and fenced area\"\n",
    "],\n",
    "\"monitoring\":[\n",
    "    \"video surveillance\",\"video Surveillance\",\"video monitoring\",\"the Presence of CCTV\",\"video surveillance and access control system\",\"CCTV\",\n",
    "    \"Concierge allow you not to worry about the safety of your stay. Video surveillance and access control systems make it impossible to enter the territory of unwanted guests\",\n",
    "    \"video surveillance of the perimeter of the building\",\"Video surveillance\",\"CAT t\",\n",
    "    \"The territory of the complex is equipped with round-the-clock video surveillance of the entire perimeter and security.\",\"24-hour video surveillance\",\n",
    "    \"round-the-clock video surveillance\",\"Video perimeter monitoring\",\"the Presence of video surveillance\",\"video surveillance system\",\"video surveillance systems\",\n",
    "    \"organized around the clock video surveillance.\",\"video monitoring system\",\"round-the-clock video surveillance. Guarded By Chop.\",\n",
    "    \"The presence of video surveillance\",\"fenced territory with CCTV cameras\",\"video surveillance on the perimeter\"\n",
    "],\n",
    "\"parking\":[\n",
    "    \"Secure Parking\",\"entrance and underground Parking.\",\"landscaped courtyard with children's Playground and guest Parking.\"\n",
    "],\n",
    "\"playgrounds\":[\n",
    "    \"high-quality and safe playgrounds.\",\"landscaped courtyard with children's Playground and guest Parking.\"\n",
    "],\n",
    "\"security\":[\n",
    "    \"provided\",\"Yes\",\"round the clock security\",\"well guarded by security cameras around the perimeter\",\"24-hour security\",\"round the clock security.\",\n",
    "    \"protected area\",\"checkpoint\",\"round the Clock security\",\"Protected area\",\"security\",\"Protected Chop\",\"private protected area\",\"secure Parking\",\n",
    "    \"multilevel round-the-clock armed security\",\"professional round-the-clock security\",\"Round-the-clock security system\",\"24-hour security of the complex\",\n",
    "    \"multi-level security system\",\"security alarm of all premises with life support systems of the building\",\"guarded area\",\n",
    "    \"The whole area is fenced and guarded around the clock.\",\"protected\",\"secure area\",\"Private protected area\",\"Round the clock protected area\",\n",
    "    \"The territory of the complex is equipped with round-the-clock video surveillance of the entire perimeter and security.\",\"fenced area with security\",\n",
    "    \"Access control and security systems\",\"perimeter security\",\"Professional round-the-clock security\",\"Multilevel security system\",\"Guarded by Chop\",\n",
    "    \"fenced guarded area\",\"Security system\",\"security post\",\"armed guards\",\"24-hour guarded territory\",\"professional security service\",\n",
    "    \"Concierge and security facilities\",\"Fenced and protected area\",\"24-hour security and Concierge service\",\"security alarm\",\n",
    "    \"round-the-clock video surveillance. Guarded By Chop.\",\"The territory of the complex is fenced and guarded\",\"Round the clock security\",\n",
    "    \"Protected fenced area\",\"Protected\",\"high-tech 24-hour security\",\"Integrated security system\"\n",
    "]\n",
    "}\n",
    "\n",
    "month = pd.DataFrame({ \"date_0_1\" : [\"января\",\"февраля\",\"марта\",\"апреля\",\"мая\",\n",
    "                                     \"июня\",\"июля\",\"августа\",\"сентября\",\n",
    "                                     \"октября\",\"ноября\",\"декабря\" ],\n",
    "                       \"date_month_cat\" : ['01','02','03','04','05','06','07',\n",
    "                                          '08','09','10','11','12']\n",
    "                    })\n",
    "\n",
    "metro_stations = pd.DataFrame({\n",
    "\"breadcrumbs_MCK\":[\n",
    "         \"МЦК Крымская\",\"МЦК Кутузовская\",\"МЦК Шелепиха\",\"МЦК Лужники\",\"МЦК Коптево\",\"МЦК Хорошёво\",\n",
    "         \"МЦК ЗИЛ\",\"МЦК Шоссе Энтузиастов\",\"МЦК Нижегородская\",\"МЦК Угрешская\",\"МЦК Владыкино\",\n",
    "         \"МЦК Лихоборы\",\"МЦК Ботанический сад\",\"МЦК Балтийская\",\"МЦК Зорге\",\"МЦК Ростокино\",\n",
    "         \"МЦК Локомотив\",\"МЦК Деловой центр\",\"МЦК Андроновка\",\"МЦК Новохохловская\",\"МЦК Соколиная Гора\",\n",
    "         \"МЦК Стрешнево\",\"МЦК Площадь Гагарина\",\"МЦК Окружная\",\"МЦК Панфиловская\",\"МЦК Верхние Котлы\",\n",
    "         \"МЦК Дубровка\",\"МЦК Бульвар Рокоссовского\",\"МЦК Автозаводская\",\"МЦК Белокаменная\",\"МЦК Измайлово\"\n",
    "        ],\n",
    " \"N_cat\"    :[\n",
    "     55.689996,55.739723,55.759055,55.720938,55.8339615,55.777063,\n",
    "     55.697998,55.758903,55.732153,55.7172056,55.8460453,\n",
    "     55.8461625,55.8456095,55.8245848,55.7889196,55.84286,\n",
    "     55.8032813,55.7477698,55.7459043,55.7240081,55.7715129,\n",
    "     55.813731,55.706997,55.8488708,55.7990171,55.690124,\n",
    "     55.7126485,55.817222,55.706525,55.8247339,55.7884887\n",
    " ],\n",
    " \"E_cat\"    :[\n",
    "     37.6030233,37.5322383,37.5204276,37.5578673,37.5095698,37.5052353,\n",
    "     37.6455663,37.7438224,37.7259292,37.694126,37.5871309,\n",
    "     37.57181,37.6375244,37.4928893,37.5017478,37.6630943,\n",
    "     37.7431398,37.5298063,37.7356328,37.7143756,37.7429271,\n",
    "     37.4848013,37.5841133,37.5699377,37.4967285,37.6165353,\n",
    "     37.675508,37.7347544,37.6612083,37.6935242,37.7423137     \n",
    " ],\n",
    " \"dist_to_red_square_cat\" :[\n",
    "     0.065474699499651200,0.087583479903288500,0.098447525258996600,0.069047169411717700,0.135566934589415000,0.115894398869703000,\n",
    "     0.061707928222957200,0.125214708292993000,0.109324042363335000,0.083710909065539700,0.097730971999673100,\n",
    "     0.103806377065432000,0.093949381526707200,0.144492862318421000,0.122201190447971000,0.099715880839365500,\n",
    "     0.133985005816959000,0.089103788900196600,0.117161550121057000,0.100115116606079000,0.125496038555646000,\n",
    "     0.146816601480113000,0.058016705643890100,0.107069396626726000,0.130186815633074000,0.063474566769454200,\n",
    "     0.069989344485068300,0.132349246777230000,0.063383649850489500,0.103252166733923000,0.128432603636457000\n",
    " ],\n",
    " \"dist_to_airport_Szere_cat\":[\n",
    "     0.296360388194812000,0.230551909339703000,0.224014637566945000,0.252853413120291000,0.247605377828677000,0.216000276998391000,\n",
    "     0.338948568412645000,0.442235366506402000,0.421173209378202000,0.388272034151328000,0.319959674379398000,\n",
    "     0.306677693421351000,0.364755362770447000,0.228569990859038000,0.217807025951987000,0.387018390667653000,\n",
    "     0.450421186246167000,0.229989094738207000,0.432330698167272000,0.408956539604296000,0.443435782471661000,\n",
    "     0.215726846441931000,0.277845867499556000,0.306437585575431000,0.218094277412802000,0.309871258872106000,\n",
    "     0.369412974341512000,0.446010492707349000,0.354833843221558000,0.408977175985263000,0.446191310536960000\n",
    "\n",
    " ],\n",
    " \"dist_to_airport_Domod_cat\":[\n",
    "     0.280352599357255000,0.341505576431436000,0.363322450119583000,0.317243187838553000,0.438396276839995000,0.384985918522181000,\n",
    "     0.288630376759217000,0.369170636618699000,0.338118239531228000,0.315191688822688000,0.437155363452810000,\n",
    "     0.438770252015069000,0.435568753432807000,0.434019909475090000,0.397341648226938000,0.434472516266529000,\n",
    "     0.411133993349334000,0.349908952325272000,0.354217392443069000,0.326934821351179000,0.380815829261124000,\n",
    "     0.426212235233535000,0.299137479860966000,0.441678723023929000,0.408489652356089000,0.279876472868956000,\n",
    "     0.306987858059841000,0.422168110091536000,0.298762491551681000,0.420502840941041000,0.396767924663372000\n",
    "\n",
    " ],\n",
    " \"dist_to_airport_Wnuko_cat\":[\n",
    "     0.296363998094992000,0.230497277313749000,0.223934803143412000,0.252824010555265000,0.247450606297197000,0.215894638429606000,\n",
    "     0.338945492302891000,0.442195833660878000,0.421148940052902000,0.388256068177328000,0.319830009818745000,\n",
    "     0.306542226606790000,0.364642174455572000,0.228413390746622000,0.217687396939553000,0.386913757493900000,\n",
    "     0.450355517985038000,0.229924775435290000,0.432298423060469000,0.408936927525318000,0.443388603635436000,\n",
    "     0.215574576576760000,0.277832934882547000,0.306299593354689000,0.217962145505179000,0.309874668582722000,\n",
    "     0.369399474317778000,0.445935626128301000,0.354824426806060000,0.408890361344124000,0.446134052143902000\n",
    " \n",
    "        \n",
    " ]\n",
    "})\n",
    "\n",
    "#red_square = {\"N_cat\":[55.7535609],\"E_cat\":[37.6187217]}\n"
   ]
  },
  {
   "cell_type": "code",
   "execution_count": 39,
   "id": "5bd2d1a9",
   "metadata": {
    "ExecuteTime": {
     "end_time": "2021-04-25T20:40:41.258475Z",
     "start_time": "2021-04-25T20:40:09.356721Z"
    }
   },
   "outputs": [
    {
     "name": "stdout",
     "output_type": "stream",
     "text": [
      "############ start extract\n",
      "#### extract columns with :\n",
      "#### extract geo_block\n",
      "#### extract breadcrumbs 1\n",
      "#### extract Security\n",
      "#### extract breadcrumbs 2\n",
      "#### extract date\n",
      "#### extract owner\n",
      "############ end extract\n"
     ]
    }
   ],
   "source": [
    "print(\"############ start extract\") \n",
    "print(\"#### extract columns with :\")  \n",
    "factorize_feats = [f for f in df_all.columns if \":\" in f]\n",
    "for feat in factorize_feats:\n",
    "    df_all[\"{}_cat\".format(feat)] = df_all[feat].factorize()[0]\n",
    "\n",
    "print(\"#### extract geo_block\")      \n",
    "df_geo_block = df_all[\"geo_block\"].map(extract_geoblock).apply(pd.Series)\n",
    "df_all = pd.concat([df_all, df_geo_block], axis=1)\n",
    "\n",
    "feats_geo_block = [ x for x in df_geo_block.columns]\n",
    "for f in feats_geo_block:\n",
    "    df_all[\"{}_cat\".format(f)] = df_all[f].factorize()[0]\n",
    "    \n",
    "print(\"#### extract breadcrumbs 1\")      \n",
    "df_breadcrumbs = df_all[\"breadcrumbs\"].map(extract_breadcrumbs).apply(pd.Series)\n",
    "df_all = pd.concat([df_all, df_breadcrumbs], axis=1)\n",
    "\n",
    "feats_breadcrumbs = [ x for x in df_breadcrumbs.columns]\n",
    "for f in feats_breadcrumbs:\n",
    "    df_all[\"{}_cat\".format(f)] = df_all[f].factorize()[0]\n",
    "\n",
    "print(\"#### extract Security\")\n",
    "for idx in Security_dict:\n",
    "    df_all[idx+\"_cat\"] = df_all[\"Security:\"].apply(lambda x: 1 if set(str(x).replace(\", \",\",\").split(\",\")) & set(Security_dict[idx]) else 0)\n",
    "\n",
    "print(\"#### extract breadcrumbs 2\")\n",
    "df_all[\"breadcrumbs_MCK\"] = df_all.apply(lambda df: split_breadcrumbs(df[\"breadcrumbs\"],\"МЦК \"), axis=1)\n",
    "#df_all[\"breadcrumbs_STR\"] = df_all.apply(lambda df: split_breadcrumbs(df[\"breadcrumbs\"],\"ул. \"), axis=1)\n",
    "df_all = df_all.merge(metro_stations, how=\"left\", on=[\"breadcrumbs_MCK\"])\n",
    "\n",
    "df_all[\"N_cat\"] = df_all[\"N_cat\"].fillna(-1)\n",
    "df_all[\"E_cat\"] = df_all[\"E_cat\"].fillna(-1)\n",
    "df_all[\"dist_to_red_square_cat\"] = df_all[\"dist_to_red_square_cat\"].fillna(-1)\n",
    "df_all[\"dist_to_airport_Szere_cat\"] = df_all[\"dist_to_airport_Szere_cat\"].fillna(-1)\n",
    "df_all[\"dist_to_airport_Domod_cat\"] = df_all[\"dist_to_airport_Domod_cat\"].fillna(-1)\n",
    "df_all[\"dist_to_airport_Wnuko_cat\"] = df_all[\"dist_to_airport_Wnuko_cat\"].fillna(-1)\n",
    "\n",
    "df_all['breadcrumbs_MCK_cat'] = pd.factorize(df_all['breadcrumbs_MCK'])[0]\n",
    "\n",
    "df_all[\"breadcrumbs_count_cat\"] = df_all[\"breadcrumbs\"].apply(lambda x: len(str(x).split(\",\")))\n",
    "\n",
    "print(\"#### extract date\")\n",
    "df_all[\"date_0\"] = df_all.apply(lambda df: split_date(df[\"date\"],0), axis=1)\n",
    "df_all[\"date_1\"] = df_all.apply(lambda df: split_date(df[\"date\"],1), axis=1)\n",
    "df_all[\"date_2\"] = df_all.apply(lambda df: split_date(df[\"date\"],2), axis=1)\n",
    "\n",
    "df_all[\"date_day_no\"] = df_all.apply(lambda df: split_date_DMY(df[\"date_0\"],0), axis=1)\n",
    "df_all[\"date_0_1\"] = df_all.apply(lambda df: split_date_DMY(df[\"date_0\"],1), axis=1)\n",
    "df_all[\"date_year_cat\"] = df_all.apply(lambda df: split_date_DMY(df[\"date_0\"],2), axis=1)\n",
    "\n",
    "df_all = df_all.merge(month, how=\"left\", on=[\"date_0_1\"])\n",
    "\n",
    "df_all[\"date_month_cat\"] = df_all[\"date_month_cat\"].fillna(-10)\n",
    "df_all[\"date_1_cat\"] = pd.factorize(df_all['date_1'])[0]\n",
    "\n",
    "df_all = df_all.astype({\n",
    "                        \"date_month_cat\": int, \n",
    "                        \"date_year_cat\": int}\n",
    "                       )\n",
    "\n",
    "max_year = df_all[\"date_year_cat\"].max()\n",
    "\n",
    "#find data in last year\n",
    "df_in_last_year = df_all[\"date_year_cat\"] == -1\n",
    "df_all.loc[df_in_last_year,\"date_year_cat\"] = max_year + 1\n",
    "\n",
    "\n",
    "max_month = df_all[\"date_month_cat\"].where(df_in_last_year).max()\n",
    "df_in_last_month = df_all[\"date_month_cat\"] == -10\n",
    "df_all.loc[df_in_last_month,\"date_month_cat\"] = max_month\n",
    "\n",
    "max_new_year = df_all[\"date_year_cat\"].max()\n",
    "df_in_new_year = df_all[\"date_year_cat\"] == max_new_year\n",
    "max_new_month = df_all[\"date_month_cat\"][df_in_new_year].max()#.astype(int)\n",
    "df_in_new_year_month = df_all[\"date_month_cat\"] == max_new_month\n",
    "max_new_day = int(df_all[\"date_day_no\"][df_in_new_year & df_in_new_year_month].max())\n",
    "\n",
    "df_all[\"date_day_\"] = df_all[\"date_day_no\"].apply(lambda x : int(x) + max_new_day  if \"+\" in x else x)\n",
    "\n",
    "df_all = df_all.astype({\n",
    "                        \"date_month_cat\": int, \n",
    "                        \"date_year_cat\": int, \n",
    "                        \"date_day_\": int}\n",
    "                       )\n",
    "\n",
    "df_all[\"year\"] = df_all[\"date_year_cat\"]\n",
    "df_all[\"month\"] = df_all[\"date_month_cat\"]\n",
    "df_all[\"day\"] = df_all[\"date_day_\"]\n",
    "df_all[\"date_date\"] = pd.to_datetime(df_all[[\"year\",\"month\",\"day\"]])\n",
    "df_all[\"date_week_cat\"] = df_all[\"date_date\"].dt.week\n",
    "df_all[\"date_dayodweek_cat\"] = df_all[\"date_date\"].dt.dayofweek\n",
    "\n",
    "print(\"#### extract owner\")\n",
    "df_all[\"owner_cat\"] = df_all[\"owner\"].apply(lambda x: 1 if len(str(x)) > 2 else 0)\n",
    "\n",
    "print(\"############ end extract\") "
   ]
  },
  {
   "cell_type": "code",
   "execution_count": 16,
   "id": "c2ea9ec6",
   "metadata": {
    "ExecuteTime": {
     "end_time": "2021-04-25T20:40:43.249699Z",
     "start_time": "2021-04-25T20:40:43.243698Z"
    }
   },
   "outputs": [],
   "source": [
    "#df_all[['date_year_cat']].info()\n",
    "#df_all[['date_month_cat']].info()\n",
    "#df_all[['date_day_cat']].info()\n",
    "\n",
    "#pd.to_datetime(df_all[[\"date_year_cat\",\"date_month_cat\",\"date_day_cat\"]])\n",
    "#import datetime\n",
    "#df_all.apply(lambda x: datetime.date(df_all['date_year_cat'], df_all['date_month_cat'], df_all['date_day_cat']),axis=1)\n",
    "#print([datetime(y,m,d) for y,m,d in zip(df_all[\"date_year_cat\"],df_all[\"date_month_cat\"],df_all[\"date_day_cat\"])])\n",
    "#pd.to_datetime((int(df_all['date_year_cat'])*10000+int(df_all['date_month_cat'])*100+int(df_all['date_day_cat'])).astype('int'), format='%Y%m%d')\n",
    "#max_new_day"
   ]
  },
  {
   "cell_type": "code",
   "execution_count": 17,
   "id": "a77ea663",
   "metadata": {
    "ExecuteTime": {
     "end_time": "2021-04-25T20:40:43.733223Z",
     "start_time": "2021-04-25T20:40:43.723697Z"
    }
   },
   "outputs": [],
   "source": [
    "#all_breadcrumbs = set()\n",
    "#\n",
    "#def extract_breadcrumbs(breadcrumbs):\n",
    "#    if 'nan' == str(breadcrumbs): return\n",
    "#    \n",
    "#    for value in str(breadcrumbs).replace('[','').replace(']','').replace(\"'\",\"\").split(','):\n",
    "#        value = value.lower().strip()\n",
    "#        for value2 in value.split('.'):\n",
    "#            if '' == value2: continue\n",
    "#            \n",
    "#            value2 = value2.lower().strip()\n",
    "#            \n",
    "#            all_breadcrumbs.add(value2)\n",
    "#    \n",
    "#_ = df_all['breadcrumbs'].map(extract_breadcrumbs)\n",
    "#\n",
    "#set(all_breadcrumbs)"
   ]
  },
  {
   "cell_type": "code",
   "execution_count": 5,
   "id": "b5fad607",
   "metadata": {
    "ExecuteTime": {
     "end_time": "2021-04-25T20:40:45.003308Z",
     "start_time": "2021-04-25T20:40:44.619696Z"
    }
   },
   "outputs": [
    {
     "name": "stdout",
     "output_type": "stream",
     "text": [
      "feats:  66\n",
      "['Security:_cat', 'Building type:_cat', 'Object type:_cat', 'Ad type:_cat', 'Commission agent:_cat', 'Construction phase:_cat', 'Housing class:_cat', 'Elevator:_cat', 'Bathroom type:_cat', 'Balcony type:_cat', 'Mortgage possible:_cat', 'The view from the window:_cat', 'Garbage chute:_cat', 'Repair:_cat', 'Fridge:_cat', 'Phone:_cat', 'Furniture:_cat', 'Free layout:_cat', 'It is possible to bargain:_cat', 'Floor covering:_cat', 'Room type:_cat', 'Internet:_cat', 'Kitchen furniture:_cat', 'TV:_cat', 'Washing machine:_cat', 'Foundation type:_cat', 'Overlap type:_cat', 'Type of the building:_cat', 'Playground:_cat', 'Class:_cat', 'geo_block_0_cat', 'geo_block_1_cat', 'geo_block_2_cat', 'geo_block_3_cat', 'geo_block_4_cat', 'geo_block_5_cat', 'breadcrumbs0_cat', 'breadcrumbs1_cat', 'breadcrumbs2_cat', 'breadcrumbs3_cat', 'access_control_cat', 'alarm_cat', 'concierge_cat', 'fenced_cat', 'fire_system_cat', 'high_quality_cat', 'intercom_cat', 'landscaping_cat', 'monitoring_cat', 'parking_cat', 'playgrounds_cat', 'security_cat', 'N_cat', 'E_cat', 'dist_to_red_square_cat', 'dist_to_airport_Szere_cat', 'dist_to_airport_Domod_cat', 'dist_to_airport_Wnuko_cat', 'breadcrumbs_MCK_cat', 'breadcrumbs_count_cat', 'date_year_cat', 'date_month_cat', 'date_1_cat', 'date_week_cat', 'date_dayodweek_cat', 'owner_cat']\n"
     ]
    }
   ],
   "source": [
    "feats = [x for x in df_all.columns if \"_cat\" in x]\n",
    "\n",
    "#feats_tmp = df_all[ False ==  df_all[\"price\"].isnull() ].select_dtypes(include= [np.int8,np.int16,np.int64]).columns.values\n",
    "feats_tmp = df_all[ False ==  df_all[\"price\"].isnull() ].select_dtypes(include= [np.int8,np.int16,np.int64]).columns.values\n",
    "#df_all[[x for x in df_all.columns if \"_cat\" in x]] = df_all[[x for x in df_all.columns if \"_cat\" in x]].astype(np.int)\n",
    "df_all[feats_tmp] = df_all[feats_tmp].astype(np.int)\n",
    "print(\"feats: \", len(feats))\n",
    "print(feats)\n"
   ]
  },
  {
   "cell_type": "code",
   "execution_count": null,
   "id": "5b813ffa",
   "metadata": {},
   "outputs": [],
   "source": []
  },
  {
   "cell_type": "code",
   "execution_count": 9,
   "id": "6950842f",
   "metadata": {
    "ExecuteTime": {
     "end_time": "2021-04-25T20:40:47.310522Z",
     "start_time": "2021-04-25T20:40:47.291895Z"
    }
   },
   "outputs": [
    {
     "name": "stdout",
     "output_type": "stream",
     "text": [
      "<class 'pandas.core.frame.DataFrame'>\n",
      "Int64Index: 68361 entries, 0 to 68360\n",
      "Columns: 123 entries, breadcrumbs to owner_cat\n",
      "dtypes: datetime64[ns](1), float64(8), int32(64), object(50)\n",
      "memory usage: 48.0+ MB\n"
     ]
    }
   ],
   "source": [
    "df_all.info()"
   ]
  },
  {
   "cell_type": "code",
   "execution_count": 19,
   "id": "306cda29",
   "metadata": {
    "ExecuteTime": {
     "end_time": "2021-04-25T20:40:48.228793Z",
     "start_time": "2021-04-25T20:40:48.219746Z"
    }
   },
   "outputs": [
    {
     "name": "stdout",
     "output_type": "stream",
     "text": [
      "############ start prepering ProfileReport\n",
      "feats:  67\n",
      "['Security:_cat', 'Building type:_cat', 'Object type:_cat', 'Ad type:_cat', 'Commission agent:_cat', 'Construction phase:_cat', 'Housing class:_cat', 'Elevator:_cat', 'Bathroom type:_cat', 'Balcony type:_cat', 'Mortgage possible:_cat', 'The view from the window:_cat', 'Garbage chute:_cat', 'Repair:_cat', 'Fridge:_cat', 'Phone:_cat', 'Furniture:_cat', 'Free layout:_cat', 'It is possible to bargain:_cat', 'Floor covering:_cat', 'Room type:_cat', 'Internet:_cat', 'Kitchen furniture:_cat', 'TV:_cat', 'Washing machine:_cat', 'Foundation type:_cat', 'Overlap type:_cat', 'Type of the building:_cat', 'Playground:_cat', 'Class:_cat', 'geo_block_0_cat', 'geo_block_1_cat', 'geo_block_2_cat', 'geo_block_3_cat', 'geo_block_4_cat', 'geo_block_5_cat', 'breadcrumbs0_cat', 'breadcrumbs1_cat', 'breadcrumbs2_cat', 'breadcrumbs3_cat', 'access_control_cat', 'alarm_cat', 'concierge_cat', 'fenced_cat', 'fire_system_cat', 'high_quality_cat', 'intercom_cat', 'landscaping_cat', 'monitoring_cat', 'parking_cat', 'playgrounds_cat', 'security_cat', 'N_cat', 'E_cat', 'dist_to_red_square_cat', 'dist_to_airport_Szere_cat', 'dist_to_airport_Domod_cat', 'dist_to_airport_Wnuko_cat', 'breadcrumbs_MCK_cat', 'breadcrumbs_count_cat', 'date_year_cat', 'date_month_cat', 'date_1_cat', 'date_week_cat', 'date_dayodweek_cat', 'owner_cat', 'price']\n"
     ]
    },
    {
     "data": {
      "application/vnd.jupyter.widget-view+json": {
       "model_id": "4c54af78811e42daaeadf22ef982b70e",
       "version_major": 2,
       "version_minor": 0
      },
      "text/plain": [
       "HBox(children=(HTML(value='Summarize dataset'), FloatProgress(value=0.0, max=80.0), HTML(value='')))"
      ]
     },
     "metadata": {},
     "output_type": "display_data"
    },
    {
     "name": "stdout",
     "output_type": "stream",
     "text": [
      "\n"
     ]
    },
    {
     "data": {
      "application/vnd.jupyter.widget-view+json": {
       "model_id": "adb57853c8194c89bc7f2a3ed582f55d",
       "version_major": 2,
       "version_minor": 0
      },
      "text/plain": [
       "HBox(children=(HTML(value='Generate report structure'), FloatProgress(value=0.0, max=1.0), HTML(value='')))"
      ]
     },
     "metadata": {},
     "output_type": "display_data"
    },
    {
     "name": "stdout",
     "output_type": "stream",
     "text": [
      "\n"
     ]
    },
    {
     "data": {
      "application/vnd.jupyter.widget-view+json": {
       "model_id": "3f4332892b394fb898eae8d8cc31624e",
       "version_major": 2,
       "version_minor": 0
      },
      "text/plain": [
       "HBox(children=(HTML(value='Render HTML'), FloatProgress(value=0.0, max=1.0), HTML(value='')))"
      ]
     },
     "metadata": {},
     "output_type": "display_data"
    },
    {
     "name": "stdout",
     "output_type": "stream",
     "text": [
      "\n"
     ]
    },
    {
     "data": {
      "application/vnd.jupyter.widget-view+json": {
       "model_id": "2bcc4c76c69d45fbac81385af4974a96",
       "version_major": 2,
       "version_minor": 0
      },
      "text/plain": [
       "HBox(children=(HTML(value='Export report to file'), FloatProgress(value=0.0, max=1.0), HTML(value='')))"
      ]
     },
     "metadata": {},
     "output_type": "display_data"
    },
    {
     "name": "stdout",
     "output_type": "stream",
     "text": [
      "\n",
      "############ end prepering ProfileReport\n"
     ]
    }
   ],
   "source": [
    "print(\"############ start prepering ProfileReport\")\n",
    "if 1 == 0:\n",
    "    import pandas_profiling\n",
    "\n",
    "    feats_to_report = [x for x in df_all.columns if \"_cat\" in x]\n",
    "    feats_to_report.append(\"price\")\n",
    "    print(\"feats: \", len(feats_to_report))\n",
    "    print((feats_to_report))\n",
    "\n",
    "    profile_train = pandas_profiling.ProfileReport(df_all[feats_to_report])\n",
    "    profile_train.to_file(output_file=\"{}.html\".format(filename))\n",
    "print(\"############ end prepering ProfileReport\")"
   ]
  },
  {
   "cell_type": "code",
   "execution_count": null,
   "id": "9272e18f",
   "metadata": {},
   "outputs": [],
   "source": [
    "['Security:_cat', 'Building type:_cat', 'Object type:_cat', 'Ad type:_cat', 'Commission agent:_cat', \n",
    " 'Construction phase:_cat', 'Housing class:_cat', 'Elevator:_cat', 'Bathroom type:_cat', 'Balcony type:_cat', \n",
    " 'Mortgage possible:_cat', 'The view from the window:_cat', 'Garbage chute:_cat', 'Repair:_cat', 'Fridge:_cat', \n",
    " 'Phone:_cat', 'Furniture:_cat', 'Free layout:_cat', 'It is possible to bargain:_cat', 'Floor covering:_cat', \n",
    " 'Room type:_cat', 'Internet:_cat', 'Kitchen furniture:_cat', 'TV:_cat', 'Washing machine:_cat', 'Foundation type:_cat', \n",
    " 'Overlap type:_cat', 'Type of the building:_cat', 'Playground:_cat', 'Class:_cat', \n",
    " 'geo_block_0_cat', 'geo_block_1_cat', 'geo_block_2_cat', 'geo_block_3_cat', 'geo_block_4_cat', 'geo_block_5_cat', \n",
    " 'breadcrumbs0_cat', 'breadcrumbs1_cat', 'breadcrumbs2_cat', 'breadcrumbs3_cat', \n",
    " 'access_control_cat', 'alarm_cat', 'concierge_cat', 'fenced_cat', 'fire_system_cat', 'high_quality_cat', 'intercom_cat', 'landscaping_cat', \n",
    " 'monitoring_cat', 'parking_cat', 'playgrounds_cat', 'security_cat', \n",
    " 'N_cat', 'E_cat', \n",
    " 'dist_to_red_square_cat', 'dist_to_airport_Szere_cat', 'dist_to_airport_Domod_cat', 'dist_to_airport_Wnuko_cat', \n",
    " 'breadcrumbs_MCK_cat', 'breadcrumbs_count_cat', 'date_year_cat', 'date_month_cat', 'date_1_cat', 'date_week_cat', 'date_dayodweek_cat', 'owner_cat']"
   ]
  },
  {
   "cell_type": "code",
   "execution_count": 18,
   "id": "902f76a9",
   "metadata": {},
   "outputs": [],
   "source": [
    "feats = [\n",
    "    'Housing class:_cat',\n",
    "    'Building type:_cat',\n",
    "    'geo_block_0_cat',\n",
    "    'Construction phase:_cat',\n",
    "    'dist_to_airport_Szere_cat',\n",
    "    'The view from the window:_cat',\n",
    "    'N_cat',\n",
    "    'dist_to_red_square_cat',\n",
    "    'Bathroom type:_cat',\n",
    "    'geo_block_1_cat',\n",
    "    'Object type:_cat',\n",
    "    'E_cat',\n",
    "    'Ad type:_cat',\n",
    "    'breadcrumbs_MCK_cat',\n",
    "    'date_1_cat',\n",
    "    'date_week_cat',\n",
    "    'breadcrumbs1_cat',\n",
    "    'Security:_cat',\n",
    "    'date_dayodweek_cat'\n",
    "]\n"
   ]
  },
  {
   "cell_type": "code",
   "execution_count": 56,
   "id": "090f8ded",
   "metadata": {
    "ExecuteTime": {
     "end_time": "2021-04-25T20:40:52.182305Z",
     "start_time": "2021-04-25T20:40:52.091692Z"
    }
   },
   "outputs": [
    {
     "name": "stdout",
     "output_type": "stream",
     "text": [
      "#### split to df_train, df_test\n"
     ]
    }
   ],
   "source": [
    "print(\"#### split to df_train, df_test\")\n",
    "df_train, df_test = df_all[ False ==  df_all[\"price\"].isnull() ], df_all[ df_all[\"price\"].isnull() ]\n",
    "\n",
    "models = [\n",
    "          [RandomForestRegressor(n_estimators=400, max_depth = 50, max_features='sqrt', min_samples_split=8, random_state=40, bootstrap = True,oob_score = True),\n",
    "           xgb.XGBRegressor(n_estimators=100, learning_rate=0.2, max_depth=15, random_state=0),\n",
    "           #lgb.LGBMRegressor(n_estimators=100, random_state=0, max_depth=15),\n",
    "           ctb.CatBoostRegressor(n_estimators=500, learning_rate=0.03, depth=12, random_state=40, verbose=False),\n",
    "           HistGradientBoostingRegressor(learning_rate=0.3, max_depth=15, random_state=20)],\n",
    "          [0.2, \n",
    "           0.2, \n",
    "           #0.2, \n",
    "           0.2, \n",
    "           0.4]\n",
    "]\n",
    "\n",
    "#models = [\n",
    "#          [RandomForestRegressor(n_estimators=500, max_depth = 20, max_features='sqrt')],\n",
    "#          [1]\n",
    "#]\n"
   ]
  },
  {
   "cell_type": "code",
   "execution_count": 57,
   "id": "565ec550",
   "metadata": {},
   "outputs": [
    {
     "name": "stdout",
     "output_type": "stream",
     "text": [
      "############ start train/test\n",
      "#### split to X_train, X_test, y_train, y_test\n",
      "model -> <class 'sklearn.ensemble._forest.RandomForestRegressor'>\n",
      "CPU times: user 14.8 s, sys: 306 ms, total: 15.1 s\n",
      "Wall time: 15.2 s\n",
      "RandomForestRegressor(max_depth=50, max_features='sqrt', min_samples_split=8,\n",
      "                      n_estimators=400, oob_score=True, random_state=40)\n",
      "model -> <class 'xgboost.sklearn.XGBRegressor'>\n",
      "CPU times: user 27.2 s, sys: 173 ms, total: 27.4 s\n",
      "Wall time: 27.5 s\n",
      "XGBRegressor(base_score=0.5, booster='gbtree', colsample_bylevel=1,\n",
      "             colsample_bynode=1, colsample_bytree=1, gamma=0, gpu_id=-1,\n",
      "             importance_type='gain', interaction_constraints='',\n",
      "             learning_rate=0.2, max_delta_step=0, max_depth=15,\n",
      "             min_child_weight=1, missing=nan, monotone_constraints='()',\n",
      "             n_estimators=100, n_jobs=0, num_parallel_tree=1, random_state=0,\n",
      "             reg_alpha=0, reg_lambda=1, scale_pos_weight=1, subsample=1,\n",
      "             tree_method='exact', validate_parameters=1, verbosity=None)\n",
      "model -> <class 'catboost.core.CatBoostRegressor'>\n",
      "CPU times: user 2min 10s, sys: 1min 14s, total: 3min 24s\n",
      "Wall time: 49.8 s\n",
      "<catboost.core.CatBoostRegressor object at 0x7fbcc62abc10>\n",
      "model -> <class 'sklearn.ensemble._hist_gradient_boosting.gradient_boosting.HistGradientBoostingRegressor'>\n",
      "CPU times: user 1.76 s, sys: 558 ms, total: 2.32 s\n",
      "Wall time: 2.33 s\n",
      "HistGradientBoostingRegressor(learning_rate=0.3, max_depth=15, random_state=20)\n"
     ]
    },
    {
     "data": {
      "image/png": "[encoded data removed]",
      "text/plain": [
       "<Figure size 720x288 with 1 Axes>"
      ]
     },
     "metadata": {
      "needs_background": "light"
     },
     "output_type": "display_data"
    },
    {
     "name": "stdout",
     "output_type": "stream",
     "text": [
      "                                                    R2_Price  mae_Price\n",
      "Model                                                                  \n",
      "<class 'sklearn.ensemble._forest.RandomForestRe...  0.833988   0.196467\n",
      "<class 'xgboost.sklearn.XGBRegressor'>              0.805722   0.202686\n",
      "<class 'catboost.core.CatBoostRegressor'>           0.822927   0.204577\n",
      "<class 'sklearn.ensemble._hist_gradient_boostin...  0.818102   0.209598\n",
      "All                                                 0.835500   0.196079\n",
      "############ end train/test\n"
     ]
    }
   ],
   "source": [
    "print(\"############ start train/test\") \n",
    "\n",
    "print(\"#### split to X_train, X_test, y_train, y_test\")\n",
    "X_train, X_test, y_train, y_test = train_test_split(df_train[feats],\n",
    "                                                    df_train[['price']],\n",
    "                                                    test_size=0.3)\n",
    "TestModels = pd.DataFrame()\n",
    "tmp = {}\n",
    "y_pred_log_tmp = np.zeros(len(y_test))\n",
    "run_plot = 1\n",
    "\n",
    "y_train_log = np.log(y_train)\n",
    "y_test_log = np.log(y_test)\n",
    "\n",
    "for i in range(len(models[0])):\n",
    "    model = models[0][i]\n",
    "    weight = models[1][i]\n",
    "\n",
    "    # get model name\n",
    "    m = str(model)\n",
    "    print('model ->', type(model))#m[:m.index('(')])\n",
    "    tmp['Model'] = type(model)#m[:m.index('(')]\n",
    "    # fit model on training dataset\n",
    "    %time model.fit(X_train, y_train_log)\n",
    "    # predict prices for test dataset and calculate r^2\n",
    "    print((model))\n",
    "    y_pred_log = model.predict(X_test)\n",
    " \n",
    "\n",
    "    y_pred_log_tmp = y_pred_log_tmp + (y_pred_log * weight)\n",
    "    \n",
    "    tmp['R2_Price'] = r2_score(y_test_log, y_pred_log)\n",
    "    tmp['mae_Price'] = mean_absolute_error(y_test_log, y_pred_log)\n",
    "    # write obtained data\n",
    "    TestModels = TestModels.append([tmp])\n",
    "    \n",
    "    #if run_plot == 1:\n",
    "        #explainer = shap.Explainer(model)\n",
    "        #shap_values = explainer(X_test)\n",
    "        #plot_learning_curve(model, X_train, y_train_log, cv=3, random_state=0, shuffle=True)\n",
    "        #plt.show()\n",
    "\n",
    "    \n",
    "tmp['Model'] = 'All'\n",
    "tmp['R2_Price'] = r2_score(y_test_log, y_pred_log_tmp)\n",
    "tmp['mae_Price'] = mean_absolute_error(y_test_log, y_pred_log_tmp)\n",
    "TestModels = TestModels.append([tmp])\n",
    "\n",
    "TestModels.set_index('Model', inplace=True)\n",
    "\n",
    "fig, axes = plt.subplots(ncols=1, figsize=(10, 4))\n",
    "TestModels.R2_Price.plot(ax=axes, kind='bar', title='R2_Price')\n",
    "plt.show()\n",
    "print(TestModels)\n",
    "print(\"############ end train/test\") "
   ]
  },
  {
   "cell_type": "code",
   "execution_count": null,
   "id": "ce7efb90",
   "metadata": {},
   "outputs": [],
   "source": []
  },
  {
   "cell_type": "code",
   "execution_count": 58,
   "id": "3bf708fd",
   "metadata": {},
   "outputs": [
    {
     "name": "stdout",
     "output_type": "stream",
     "text": [
      "############ start train/save\n",
      "#### split to X_train, X_test, y_train, y_pred\n",
      "model -> <class 'sklearn.ensemble._forest.RandomForestRegressor'>\n",
      "CPU times: user 22 s, sys: 408 ms, total: 22.4 s\n",
      "Wall time: 22.5 s\n",
      "model -> <class 'xgboost.sklearn.XGBRegressor'>\n",
      "CPU times: user 37.8 s, sys: 185 ms, total: 37.9 s\n",
      "Wall time: 38.1 s\n",
      "model -> <class 'catboost.core.CatBoostRegressor'>\n",
      "CPU times: user 2min 27s, sys: 1min 28s, total: 3min 55s\n",
      "Wall time: 54.4 s\n",
      "model -> <class 'sklearn.ensemble._hist_gradient_boosting.gradient_boosting.HistGradientBoostingRegressor'>\n",
      "CPU times: user 2.4 s, sys: 651 ms, total: 3.05 s\n",
      "Wall time: 3.07 s\n",
      "### save file konkurs_3_5_20210425_0700.csv\n",
      "############ end train/save\n"
     ]
    }
   ],
   "source": [
    "print(\"############ start train/save\") \n",
    "save_file = 1\n",
    "\n",
    "if save_file == 0:\n",
    "    print(\"#### split to X_train, X_test, y_train, y_test\")\n",
    "    run_plot = 1\n",
    "    y_test_log = np.log(y_test)\n",
    "    \n",
    "    X_train, X_test, y_train, y_test = train_test_split(df_train[feats],\n",
    "                                                        df_train[['price']],\n",
    "                                                        test_size=0.33)\n",
    "else:\n",
    "    print(\"#### split to X_train, X_test, y_train, y_pred\")\n",
    "    run_plot = 0\n",
    "    \n",
    "    X_train, X_test = df_train[feats].values, df_test[feats].values\n",
    "    y_train = df_train[\"price\"].values\n",
    "    \n",
    "TestModels = pd.DataFrame()\n",
    "tmp = {}\n",
    "y_pred_log_tmp = np.zeros(len(df_test[\"price\"]))\n",
    "\n",
    "y_train_log = np.log(y_train)\n",
    "\n",
    "\n",
    "for i in range(len(models[0])):\n",
    "    model = models[0][i]\n",
    "    weight = models[1][i]\n",
    "\n",
    "    # get model name\n",
    "    m = str(model)\n",
    "    print('model ->', type(model))#m[:m.index('(')])\n",
    "    tmp['Model'] = type(model)#m[:m.index('(')]\n",
    "    # fit model on training dataset\n",
    "    %time model.fit(X_train, y_train_log)\n",
    "    # predict prices for test dataset and calculate r^2\n",
    "    y_pred_log = model.predict(X_test)\n",
    "    \n",
    "    if len(models[0]) > 1:\n",
    "        y_pred_log_tmp = y_pred_log_tmp + (y_pred_log * weight)\n",
    "    else:\n",
    "        y_pred_log_tmp = y_pred_log\n",
    "    \n",
    "print(\"### save file \"+'{}.csv'.format(filename))\n",
    "\n",
    "test['price'] = np.exp(y_pred_log_tmp)\n",
    "test[ ['id', 'price'] ].to_csv('{}_2359.csv'.format(filename), index=False)    \n",
    "    \n",
    "print(\"############ end train/save\") "
   ]
  },
  {
   "cell_type": "code",
   "execution_count": 10,
   "id": "59a16b8e",
   "metadata": {},
   "outputs": [],
   "source": [
    "#df_all.to_csv('konkurs_3_5_prepereddata_20210425.csv'.format(filename), index=False)"
   ]
  },
  {
   "cell_type": "code",
   "execution_count": 40,
   "id": "7f7b9fd6",
   "metadata": {},
   "outputs": [
    {
     "name": "stdout",
     "output_type": "stream",
     "text": [
      "############ start train/test\n",
      "#### split to X_train, X_test, y_train, y_test\n",
      "CPU times: user 1min 20s, sys: 469 ms, total: 1min 21s\n",
      "Wall time: 1min 21s\n",
      "XGBRegressor(base_score=0.5, booster='gbtree', colsample_bylevel=1,\n",
      "             colsample_bynode=1, colsample_bytree=1, gamma=0, gpu_id=-1,\n",
      "             importance_type='gain', interaction_constraints='',\n",
      "             learning_rate=0.1, max_delta_step=0, max_depth=15,\n",
      "             min_child_weight=1, missing=nan, monotone_constraints='()',\n",
      "             n_estimators=500, n_jobs=-1, num_parallel_tree=1, random_state=0,\n",
      "             reg_alpha=0, reg_lambda=1, scale_pos_weight=1, subsample=1,\n",
      "             tree_method='exact', validate_parameters=1, verbosity=None)\n"
     ]
    },
    {
     "data": {
      "image/png": "[encoded data removed]",
      "text/plain": [
       "<Figure size 720x288 with 1 Axes>"
      ]
     },
     "metadata": {
      "needs_background": "light"
     },
     "output_type": "display_data"
    },
    {
     "name": "stdout",
     "output_type": "stream",
     "text": [
      "       R2_Price  mae_Price\n",
      "Model                     \n",
      "All    0.792157   0.208962\n",
      "############ end train/test\n"
     ]
    }
   ],
   "source": [
    "print(\"############ start train/test\") \n",
    "TestModels = pd.DataFrame()\n",
    "print(\"#### split to X_train, X_test, y_train, y_test\")\n",
    "X_train, X_test, y_train, y_test = train_test_split(df_train[feats],\n",
    "                                                    df_train[['price']],\n",
    "                                                    test_size=0.4)\n",
    "y_train_log = np.log(y_train)\n",
    "y_test_log = np.log(y_test)\n",
    "\n",
    "model = xgb.XGBRegressor(n_estimators=500, learning_rate=0.1, max_depth=15, random_state=0, n_jobs=-1)\n",
    "#model = RandomForestRegressor(n_estimators=2000, max_depth = 18, max_features='sqrt', random_state=20, bootstrap = True,oob_score = True, n_jobs=-1)\n",
    "# fit model on training dataset\n",
    "%time model.fit(X_train, y_train_log)\n",
    "# predict prices for test dataset and calculate r^2\n",
    "print((model))\n",
    "y_pred_log = model.predict(X_test)\n",
    " \n",
    "\n",
    "tmp['R2_Price'] = r2_score(y_test_log, y_pred_log)\n",
    "tmp['mae_Price'] = mean_absolute_error(y_test_log, y_pred_log)\n",
    "TestModels = TestModels.append([tmp])\n",
    "\n",
    "TestModels.set_index('Model', inplace=True)\n",
    "\n",
    "fig, axes = plt.subplots(ncols=1, figsize=(10, 4))\n",
    "TestModels.R2_Price.plot(ax=axes, kind='bar', title='R2_Price')\n",
    "plt.show()\n",
    "print(TestModels)\n",
    "print(\"############ end train/test\") "
   ]
  },
  {
   "cell_type": "code",
   "execution_count": 41,
   "id": "eefb8b68",
   "metadata": {},
   "outputs": [
    {
     "ename": "AttributeError",
     "evalue": "module 'shap' has no attribute 'Explainer'",
     "output_type": "error",
     "traceback": [
      "\u001b[0;31m---------------------------------------------------------------------------\u001b[0m",
      "\u001b[0;31mAttributeError\u001b[0m                            Traceback (most recent call last)",
      "\u001b[0;32m<ipython-input-41-3adcf9b1e2e0>\u001b[0m in \u001b[0;36m<module>\u001b[0;34m\u001b[0m\n\u001b[1;32m      1\u001b[0m \u001b[0;32mimport\u001b[0m \u001b[0mshap\u001b[0m\u001b[0;34m\u001b[0m\u001b[0;34m\u001b[0m\u001b[0m\n\u001b[1;32m      2\u001b[0m \u001b[0;34m\u001b[0m\u001b[0m\n\u001b[0;32m----> 3\u001b[0;31m \u001b[0mexplainer\u001b[0m \u001b[0;34m=\u001b[0m \u001b[0mshap\u001b[0m\u001b[0;34m.\u001b[0m\u001b[0mExplainer\u001b[0m\u001b[0;34m(\u001b[0m\u001b[0mmodel\u001b[0m\u001b[0;34m)\u001b[0m\u001b[0;34m\u001b[0m\u001b[0;34m\u001b[0m\u001b[0m\n\u001b[0m\u001b[1;32m      4\u001b[0m \u001b[0mshap_values\u001b[0m \u001b[0;34m=\u001b[0m \u001b[0mexplainer\u001b[0m\u001b[0;34m(\u001b[0m\u001b[0mX_test\u001b[0m\u001b[0;34m)\u001b[0m\u001b[0;34m\u001b[0m\u001b[0;34m\u001b[0m\u001b[0m\n\u001b[1;32m      5\u001b[0m \u001b[0mshap\u001b[0m\u001b[0;34m.\u001b[0m\u001b[0mplots\u001b[0m\u001b[0;34m.\u001b[0m\u001b[0mwaterfall\u001b[0m\u001b[0;34m(\u001b[0m\u001b[0mshap_values\u001b[0m\u001b[0;34m[\u001b[0m\u001b[0;36m0\u001b[0m\u001b[0;34m]\u001b[0m\u001b[0;34m)\u001b[0m\u001b[0;34m\u001b[0m\u001b[0;34m\u001b[0m\u001b[0m\n",
      "\u001b[0;31mAttributeError\u001b[0m: module 'shap' has no attribute 'Explainer'"
     ]
    }
   ],
   "source": [
    "import shap\n",
    "\n",
    "explainer = shap.Explainer(model)\n",
    "shap_values = explainer(X_test)\n",
    "shap.plots.waterfall(shap_values[0])"
   ]
  },
  {
   "cell_type": "code",
   "execution_count": 35,
   "id": "609c7492",
   "metadata": {},
   "outputs": [
    {
     "ename": "NameError",
     "evalue": "name 'shap_values' is not defined",
     "output_type": "error",
     "traceback": [
      "\u001b[0;31m---------------------------------------------------------------------------\u001b[0m",
      "\u001b[0;31mNameError\u001b[0m                                 Traceback (most recent call last)",
      "\u001b[0;32m<ipython-input-35-939ef7702ed5>\u001b[0m in \u001b[0;36m<module>\u001b[0;34m\u001b[0m\n\u001b[0;32m----> 1\u001b[0;31m \u001b[0mshap\u001b[0m\u001b[0;34m.\u001b[0m\u001b[0mplots\u001b[0m\u001b[0;34m.\u001b[0m\u001b[0mbar\u001b[0m\u001b[0;34m(\u001b[0m\u001b[0mshap_values\u001b[0m\u001b[0;34m,\u001b[0m\u001b[0mmax_display\u001b[0m \u001b[0;34m=\u001b[0m \u001b[0;36m30\u001b[0m\u001b[0;34m)\u001b[0m\u001b[0;34m\u001b[0m\u001b[0;34m\u001b[0m\u001b[0m\n\u001b[0m",
      "\u001b[0;31mNameError\u001b[0m: name 'shap_values' is not defined"
     ]
    }
   ],
   "source": [
    "shap.plots.bar(shap_values,max_display = 30)"
   ]
  },
  {
   "cell_type": "code",
   "execution_count": null,
   "id": "f33acaab",
   "metadata": {},
   "outputs": [],
   "source": []
  },
  {
   "cell_type": "code",
   "execution_count": null,
   "id": "a52852d4",
   "metadata": {},
   "outputs": [],
   "source": []
  },
  {
   "cell_type": "code",
   "execution_count": null,
   "id": "f2e79a88",
   "metadata": {
    "ExecuteTime": {
     "start_time": "2021-04-25T20:41:02.938Z"
    }
   },
   "outputs": [
    {
     "name": "stdout",
     "output_type": "stream",
     "text": [
      "  0%|          | 0/10 [00:00<?, ?trial/s, best loss=?]"
     ]
    }
   ],
   "source": [
    "import warnings\n",
    "from sklearn.metrics import mean_squared_error, max_error, r2_score\n",
    "from functools import partial\n",
    "from hyperopt import hp, fmin, tpe, STATUS_OK, Trials\n",
    "\n",
    "warnings.filterwarnings('ignore')\n",
    "\n",
    "df_train, df_test = df_all[ False ==  df_all[\"price\"].isnull() ], df_all[ df_all[\"price\"].isnull() ]\n",
    "\n",
    "X_train, X_test, y_train, y_test = train_test_split(df_train[feats],df_train[['price']],test_size=0.33)\n",
    "\n",
    "def objective(space):\n",
    "    \n",
    "    xgb_params = {\n",
    "        'max_depth': int(space['max_depth']),\n",
    "        'colsample_bytree': space['colsample_bytree'],\n",
    "        'learning_rate': space['learning_rate'],\n",
    "        'subsample': space['subsample'],\n",
    "        'random_state': int(space['random_state']),\n",
    "        'min_child_weight': int(space['min_child_weight']),\n",
    "        'reg_alpha': space['reg_alpha'],\n",
    "        'reg_lambda': space['reg_lambda'],\n",
    "        'n_estimators': 100,\n",
    "        'objective': 'reg:squarederror'\n",
    "    }\n",
    "    \n",
    "    model = xgb.XGBClassifier(**xgb_params)\n",
    "    model.fit(X_train, y_train)\n",
    "    y_pred = model.predict(X_test)\n",
    "    \n",
    "    score = accuracy_score(y_test, y_pred)\n",
    "    \n",
    "    print('loss',score)\n",
    "    \n",
    "    return{'loss':score, 'status': STATUS_OK }\n",
    "    \n",
    "space ={\n",
    "    'max_depth': hp.quniform ('x_max_depth', 5, 40, 1),\n",
    "    'colsample_bytree': hp.uniform ('x_colsample_bytree', 0.8, 1.),\n",
    "    'learning_rate': hp.uniform ('x_learning_rate', 0.05, 0.2),\n",
    "    'subsample': hp.uniform ('x_subsample', 0.7, 1.),\n",
    "    'random_state': hp.quniform ('x_random_state', 0, 1000, 50),\n",
    "    'min_child_weight': hp.quniform ('x_min_child_weight', 1, 10, 1),\n",
    "    'reg_alpha': hp.loguniform ('x_reg_alpha', 0., 1.),\n",
    "    'reg_lambda': hp.uniform ('x_reg_lambda', 0.7, 1.),\n",
    "}\n",
    "\n",
    "\n",
    "trials = Trials()\n",
    "best_params = fmin(fn=objective,\n",
    "            space=space,\n",
    "            algo=partial(tpe.suggest, n_startup_jobs=1),\n",
    "            max_evals=10,\n",
    "            trials=trials)\n",
    "\n",
    "print(\"The best params: \", best_params)"
   ]
  },
  {
   "cell_type": "code",
   "execution_count": null,
   "id": "65b7efcc",
   "metadata": {},
   "outputs": [],
   "source": []
  },
  {
   "cell_type": "code",
   "execution_count": 52,
   "id": "a0e47227",
   "metadata": {},
   "outputs": [
    {
     "name": "stdout",
     "output_type": "stream",
     "text": [
      "Fitting 5 folds for each of 96 candidates, totalling 480 fits\n"
     ]
    },
    {
     "name": "stderr",
     "output_type": "stream",
     "text": [
      "[Parallel(n_jobs=-1)]: Using backend LokyBackend with 8 concurrent workers.\n",
      "[Parallel(n_jobs=-1)]: Done   2 tasks      | elapsed:    6.3s\n",
      "[Parallel(n_jobs=-1)]: Done  56 tasks      | elapsed:  1.2min\n",
      "[Parallel(n_jobs=-1)]: Done 146 tasks      | elapsed:  2.7min\n",
      "[Parallel(n_jobs=-1)]: Done 272 tasks      | elapsed:  7.1min\n",
      "[Parallel(n_jobs=-1)]: Done 434 tasks      | elapsed: 12.7min\n",
      "[Parallel(n_jobs=-1)]: Done 480 out of 480 | elapsed: 14.0min finished\n"
     ]
    }
   ],
   "source": [
    "from sklearn.model_selection import GridSearchCV\n",
    "\n",
    "model = RandomForestRegressor()\n",
    "model.fit(X_train, y_train)\n",
    "pred_y = model.predict(X_test)\n",
    "\n",
    "param_grid = {\n",
    "    'n_estimators': [100, 200, 300, 400],\n",
    "    'max_depth': [10, 50, 100],\n",
    "    'min_samples_split': [2, 4, 6, 8],\n",
    "    'max_features': ['sqrt', 'log2']\n",
    "}\n",
    "\n",
    "grid = GridSearchCV(model, param_grid = param_grid, cv = 5, verbose = 5, n_jobs = -1)\n",
    "grid.fit(X_train, y_train)\n",
    "\n",
    "best_estimator = grid.best_estimator_"
   ]
  },
  {
   "cell_type": "code",
   "execution_count": 53,
   "id": "359fefb9",
   "metadata": {},
   "outputs": [
    {
     "data": {
      "text/plain": [
       "RandomForestRegressor(max_depth=50, max_features='sqrt', min_samples_split=8,\n",
       "                      n_estimators=400)"
      ]
     },
     "execution_count": 53,
     "metadata": {},
     "output_type": "execute_result"
    }
   ],
   "source": [
    "best_estimator"
   ]
  },
  {
   "cell_type": "code",
   "execution_count": null,
   "id": "5b847bf2",
   "metadata": {},
   "outputs": [],
   "source": [
    "from sklearn.model_selection import GridSearchCV\n",
    "\n",
    "model = CatBoostRegressor()\n",
    "model.fit(X_train, y_train)\n",
    "pred_y = model.predict(X_test)\n",
    "\n",
    "param_grid = {\n",
    "    'n_estimators': [100, 200],\n",
    "    'max_depth': [10, 50, 100],\n",
    "    'min_samples_split': [2, 4],\n",
    "    'max_features': ['sqrt', 'log2']\n",
    "}\n",
    "\n",
    "grid = GridSearchCV(model, param_grid = param_grid, cv = 5, verbose = 5, n_jobs = -1)\n",
    "grid.fit(X_train, y_train)\n",
    "\n",
    "best_estimator = grid.best_estimator_"
   ]
  }
 ],
 "metadata": {
  "kernelspec": {
   "display_name": "PML",
   "language": "python",
   "name": "pml"
  },
  "language_info": {
   "codemirror_mode": {
    "name": "ipython",
    "version": 3
   },
   "file_extension": ".py",
   "mimetype": "text/x-python",
   "name": "python",
   "nbconvert_exporter": "python",
   "pygments_lexer": "ipython3",
   "version": "3.8.5"
  }
 },
 "nbformat": 4,
 "nbformat_minor": 5
}
